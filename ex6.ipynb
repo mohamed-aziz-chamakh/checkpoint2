{
  "nbformat": 4,
  "nbformat_minor": 0,
  "metadata": {
    "colab": {
      "name": "ex6",
      "provenance": [],
      "collapsed_sections": []
    },
    "kernelspec": {
      "name": "python3",
      "display_name": "Python 3"
    },
    "language_info": {
      "name": "python"
    }
  },
  "cells": [
    {
      "cell_type": "code",
      "source": [
        "#ex1\n",
        "number=[]\n",
        "for x in range(2000, 3201):\n",
        "    if (x%7==0) and (x%5>0):\n",
        "        number.append(str(x))\n",
        "for x in number :\n",
        "  print(number)"
      ],
      "metadata": {
        "id": "ifE5Y_8lfySO"
      },
      "execution_count": null,
      "outputs": []
    },
    {
      "cell_type": "code",
      "source": [
        "#exfact\n",
        "n= int(input(\"Enter a number: \"))\n",
        "f=1\n",
        "for x in range(1,n+1):\n",
        "  f=x*f\n",
        "  print(f)"
      ],
      "metadata": {
        "id": "bA6i-BDYfF7F"
      },
      "execution_count": null,
      "outputs": []
    },
    {
      "cell_type": "code",
      "source": [
        "#ex3\n",
        "n = int(input(\"Type a number: \"))\n",
        "\n",
        "Dict = {}\n",
        "for i in range(1,n+1):\n",
        "    Dict[i] = i*i\n",
        "\n",
        "print(Dict)"
      ],
      "metadata": {
        "id": "H5j6Q9o0fOnL"
      },
      "execution_count": null,
      "outputs": []
    },
    {
      "cell_type": "code",
      "source": [
        "#ex4\n",
        "ch=str(input(\"donner la chaine=\"))\n",
        "n=int(input(\"donner la postion=\" ))\n",
        "list1=list(ch)\n",
        "if n>=0 and n<=len(ch)-1 :\n",
        "  del list1[n]\n",
        "  ch=\"\".join(list1)\n",
        "  print(ch)"
      ],
      "metadata": {
        "id": "dQgyZnkJdvou"
      },
      "execution_count": null,
      "outputs": []
    },
    {
      "cell_type": "code",
      "source": [
        "#ex5\n",
        "import numpy as np\n",
        "b=np.array([[1,2],[3,4]])\n",
        "list1=list(b)\n",
        "print(list1)"
      ],
      "metadata": {
        "id": "7AEjWbPKdv17"
      },
      "execution_count": null,
      "outputs": []
    },
    {
      "cell_type": "code",
      "execution_count": 1,
      "metadata": {
        "colab": {
          "base_uri": "https://localhost:8080/"
        },
        "id": "JqOb78V_bvdg",
        "outputId": "801d99ab-b7cb-44e6-ff06-6aa8c9f74fbc"
      },
      "outputs": [
        {
          "output_type": "stream",
          "name": "stdout",
          "text": [
            "\n",
            "Original array1:\n",
            "[0 1 2]\n",
            "\n",
            "Original array1:\n",
            "[2 1 0]\n",
            "\n",
            "Covariance matrix of the said arrays:\n",
            " [[ 1. -1.]\n",
            " [-1.  1.]]\n"
          ]
        }
      ],
      "source": [
        "#ex6\n",
        "import numpy as np\n",
        "x = np.array([0, 1, 2])\n",
        "y = np.array([2, 1, 0])\n",
        "print(\"\\nOriginal array1:\")\n",
        "print(x)\n",
        "print(\"\\nOriginal array1:\")\n",
        "print(y)\n",
        "print(\"\\nCovariance matrix of the said arrays:\\n\",np.cov(x, y))"
      ]
    },
    {
      "cell_type": "code",
      "source": [
        "#ex7\n",
        "import math\n",
        "d=int(input(\"donner la valuer=\"))\n",
        "c=50\n",
        "h=30\n",
        "while(d!=0) :\n",
        "  q=math.sqrt((2 * c * d)/h)\n",
        "  print(int(q))\n",
        "  d=int(input(\"donner autre valuer=\"))"
      ],
      "metadata": {
        "id": "0K8CEplWe014"
      },
      "execution_count": null,
      "outputs": []
    }
  ]
}